{
 "cells": [
  {
   "cell_type": "code",
   "execution_count": 9,
   "metadata": {},
   "outputs": [
    {
     "name": "stdout",
     "output_type": "stream",
     "text": [
      "V =  0.00010277916715759857  [m^3]\n",
      "A =  7.08821842466197e-05  [m^2]\n",
      "R =  0.0010923760437545004  [Ohm]\n",
      "Q =  21.717528125883224  [W]\n",
      "qv =  211302.8226097824  [W/m^3]\n"
     ]
    }
   ],
   "source": [
    "#obliczenie pola powierzchni przekroju i objętości pręta\n",
    "\n",
    "import numpy as np \n",
    "\n",
    "D = 0.0095\n",
    "L = 1.45\n",
    "A = np.pi * np.power(D,2) * 0.25\n",
    "V = A * L\n",
    "\n",
    "print(\"V = \", V, \" [m^3]\")\n",
    "print(\"A = \", A, \" [m^2]\")\n",
    "\n",
    "#obliczenie generacji ciepła z Prawa Joule'a\n",
    "#obliczenie objętościowego źródła ciepła\n",
    "\n",
    "I = 141\n",
    "ro = 5.34e-8\n",
    "R = ro * L / A\n",
    "Q = np.power(I,2) * R\n",
    "qv = Q / V\n",
    "\n",
    "print(\"R = \", R, \" [Ohm]\")\n",
    "print(\"Q = \", Q, \" [W]\")\n",
    "print(\"qv = \", qv, \" [W/m^3]\")"
   ]
  },
  {
   "cell_type": "code",
   "execution_count": 10,
   "metadata": {},
   "outputs": [
    {
     "data": {
      "image/png": "[encoded data removed]",
      "text/plain": [
       "<Figure size 432x288 with 1 Axes>"
      ]
     },
     "metadata": {},
     "output_type": "display_data"
    },
    {
     "name": "stdout",
     "output_type": "stream",
     "text": [
      "Maksymalna temperatura wynosi: [1246.11925799] [K] i znajduje się w odległości: [0.6525] [m] od początku pręta. \n",
      "\n",
      "Temperatura krytyczna nie została przekroczona.\n"
     ]
    }
   ],
   "source": [
    "#obliczenie rozkładu temperatury w pręcie - MRS\n",
    "\n",
    "import numpy as np \n",
    "import matplotlib.pyplot as plt\n",
    "\n",
    "#długość pręta zostanie podzielona na N równych części\n",
    "N = 20\n",
    "T0 = 928.0\n",
    "Tn = 835.0\n",
    "Tk = 1330.0\n",
    "\n",
    "#stworzenie macierzy A i wypełnienie jej odpowiednimi danymi:\n",
    "#Ti = -2, Ti+1 = Ti-1 = 1, T0 = Tn = 1\n",
    "A = np.zeros((N, N), dtype = int)\n",
    "\n",
    "for i in range(1, N-1):\n",
    "    A[i, i-1] = 1\n",
    "    A[i,i] = -2\n",
    "    A [i,i+1] = 1\n",
    "\n",
    "A[0,0] = 1\n",
    "A[N-1,N-1] = 1\n",
    "\n",
    "#print(\"Macierz A:\\n\", A)\n",
    "#print(\"\\n\")\n",
    "        \n",
    "#stworzenie i uzupełnienie macierzy rozwiązań B\n",
    "k = 138\n",
    "w = (-qv*np.power(L/N,2)/k)\n",
    "\n",
    "B = np.zeros(N).reshape((N,1))\n",
    "for i in range(1,N-1):\n",
    "    B[i] = w\n",
    "B[0] = T0\n",
    "B[N-1] = Tn\n",
    "\n",
    "#print(\"Macierz B: \\n\", B)\n",
    "#print(\"\\n\")\n",
    "\n",
    "#Rozwiązanie układu równań A*T=B\n",
    "T = np.linalg.solve(A, B)\n",
    "#print(\"Rozwiązanie układu równań: \\n\", x)\n",
    "\n",
    "x = np.zeros(N).reshape((N,1))\n",
    "for i in range(1,N):\n",
    "    x[i][0] = x[i-1][0]+(L/N)\n",
    "\n",
    "#print(\"\\n\")\n",
    "#print(x)\n",
    "\n",
    "plt.plot(x,T)\n",
    "plt.show()\n",
    "\n",
    "#maksymalna temperatura\n",
    "max_val = 0\n",
    "max_pos = 0\n",
    "for i in range(1, N): \n",
    "        if T[i] > max_val: \n",
    "            max_val = T[i]\n",
    "            max_pos = x[i]\n",
    "\n",
    "print(\"Maksymalna temperatura wynosi:\", max_val, \"[K] i znajduje się w odległości:\", max_pos, \"[m] od początku pręta. \\n\")\n",
    "\n",
    "if (max_val - Tk > 0):\n",
    "    print(\"Temperatura maksymalna przekroczyła temperaturę krytyczną.\")\n",
    "else:\n",
    "    print(\"Temperatura krytyczna nie została przekroczona.\")"
   ]
  },
  {
   "cell_type": "code",
   "execution_count": 11,
   "metadata": {},
   "outputs": [
    {
     "name": "stdout",
     "output_type": "stream",
     "text": [
      "Maksymalne natężenie prądu, aby nie przekroczyć temperaury krytycznej to:  185 A\n"
     ]
    }
   ],
   "source": [
    "#obliczenie maksymalnego napięcia, przy którym nie zostanie przekroczona temp. krytyczna\n",
    "\n",
    "import numpy as np\n",
    "\n",
    "D = 0.0095\n",
    "L = 1.45\n",
    "A = np.pi * np.power(D,2) * 0.25\n",
    "V = A * L\n",
    "ro = 3.8e-8\n",
    "R = ro * L / A\n",
    "\n",
    "N = 20\n",
    "T0 = 928.0\n",
    "Tn = 835.0\n",
    "Tk = 1330.0\n",
    "\n",
    "A = np.zeros((N, N), dtype = int)\n",
    "\n",
    "for i in range(1, N-1):\n",
    "    A[i, i-1] = 1\n",
    "    A[i,i] = -2\n",
    "    A [i,i+1] = 1\n",
    "\n",
    "A[0,0] = 1\n",
    "A[N-1,N-1] = 1\n",
    "\n",
    "I = 141\n",
    "\n",
    "while(1):\n",
    "    Q = np.power(I,2) * R\n",
    "    qv = Q / V\n",
    "\n",
    "    k = 138\n",
    "    w = (-qv*np.power(L/N,2)/k)\n",
    "\n",
    "    B = np.zeros(N).reshape((N,1))\n",
    "    for i in range(1,N-1):\n",
    "        B[i] = w\n",
    "    B[0] = T0\n",
    "    B[N-1] = Tn\n",
    "\n",
    "    T = np.linalg.solve(A, B)\n",
    "\n",
    "    x = np.zeros(N).reshape((N,1))\n",
    "    for i in range(1,N):\n",
    "        x[i][0] = x[i-1][0]+(L/N)\n",
    "\n",
    "    max_val = 0\n",
    "    max_pos = 0\n",
    "    for i in range(1, N): \n",
    "            if T[i] > max_val: \n",
    "                max_val = T[i]\n",
    "                max_pos = x[i]\n",
    "    if (max_val - Tk > 0):\n",
    "        break\n",
    "    I = I + 0.1\n",
    "\n",
    "print(\"Maksymalne natężenie prądu, aby nie przekroczyć temperaury krytycznej to: \", round(I), \"A\")"
   ]
  },
  {
   "cell_type": "code",
   "execution_count": null,
   "metadata": {},
   "outputs": [],
   "source": []
  }
 ],
 "metadata": {
  "kernelspec": {
   "display_name": "Python 3",
   "language": "python",
   "name": "python3"
  },
  "language_info": {
   "codemirror_mode": {
    "name": "ipython",
    "version": 3
   },
   "file_extension": ".py",
   "mimetype": "text/x-python",
   "name": "python",
   "nbconvert_exporter": "python",
   "pygments_lexer": "ipython3",
   "version": "3.6.5"
  }
 },
 "nbformat": 4,
 "nbformat_minor": 2
}
